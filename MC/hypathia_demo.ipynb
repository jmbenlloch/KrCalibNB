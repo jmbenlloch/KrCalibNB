{
 "cells": [
  {
   "cell_type": "markdown",
   "metadata": {},
   "source": [
    "# Compare irene and hypathia"
   ]
  },
  {
   "cell_type": "markdown",
   "metadata": {},
   "source": [
    "In this notebook we compare pmaps produced with Hypathia and pmaps produced with diomira+irene\n",
    "\n",
    "This city reads true waveforms from detsim and compute pmaps from them without simulating the electronics. This includes:\n",
    "\n",
    "- Rebin 1-ns waveforms to 25-ns waveforms to match those produced by the detector.\n",
    "- Produce a PMT-summed waveform.\n",
    "- Apply a threshold to the PMT-summed waveform.\n",
    "- Find pulses in the PMT-summed waveform.\n",
    "- Match the time window of the PMT pulse with those in the SiPMs.\n",
    "- Build the PMap object."
   ]
  },
  {
   "cell_type": "markdown",
   "metadata": {},
   "source": [
    "## Hypathia config file"
   ]
  },
  {
   "cell_type": "code",
   "execution_count": null,
   "metadata": {},
   "outputs": [],
   "source": [
    "files_in = 'Kr83_NEW_v1_03_01_mcrd_v5_03_04_ACTIVE_10.2bar.0.h5'\n",
    "file_out = 'Kr83_NEW_v1_03_01_hypathia_v5_03_04_ACTIVE_10.2bar.0.h5'\n",
    "\n",
    "# compression library\n",
    "compression = 'ZLIB4'\n",
    "\n",
    "# run number 0 is for MC\n",
    "run_number = -6400\n",
    "detector_db = 'new'\n",
    "\n",
    "# How frequently to print events\n",
    "print_mod = 1\n",
    "\n",
    "pmt_wfs_rebin = 25\n",
    "\n",
    "# max number of events to run\n",
    "event_range =  all\n",
    "\n",
    "n_baseline =   28000 # for a window of 800 mus\n",
    "\n",
    "# Set MAU for calibrated sum\n",
    "n_mau   = 100\n",
    "thr_mau =   3 * adc\n",
    "\n",
    "# Set thresholds for calibrated sum\n",
    "thr_csum_s1 = 0.5 * pes\n",
    "thr_csum_s2 = 2.0 * pes\n",
    "\n",
    "# Set MAU thresholds for SiPM\n",
    "thr_sipm      = 1.0 * pes\n",
    "thr_sipm_type = \"common\"\n",
    "\n",
    "\n",
    "# Set parameters to search for S1\n",
    "# Notice that in MC file S1 is in t=100 mus\n",
    "s1_tmin       =  99 * mus # position of S1 in MC files at 100 mus\n",
    "s1_tmax       = 101 * mus # change tmin and tmax if S1 not at 100 mus\n",
    "s1_stride     =   4       # minimum number of 25 ns bins in S1 searches\n",
    "s1_lmin       =   4       # 8 x 25 = 200 ns\n",
    "s1_lmax       =  40       # 20 x 25 = 500 ns\n",
    "s1_rebin_stride = 1       # Do not rebin S1 by default\n",
    "\n",
    "# Set parameters to search for S2\n",
    "s2_tmin     =    101 * mus # assumes S1 at 100 mus, change if S1 not at 100 mus\n",
    "s2_tmax     =    799 * mus # end of the window\n",
    "s2_stride   =     40       #  40 x 25 = 1   mus\n",
    "s2_lmin     =     80       # 100 x 25 = 2.5 mus\n",
    "s2_lmax     = 100000       # maximum value of S2 width\n",
    "s2_rebin_stride = 40       # Rebin by default, 40 25 ns time bins to make one 1us time bin\n",
    "\n",
    "# Set S2Si parameters\n",
    "thr_sipm_s2 = 5 * pes  # Threshold for the full sipm waveform"
   ]
  },
  {
   "cell_type": "markdown",
   "metadata": {},
   "source": [
    "### Load both pmaps files"
   ]
  },
  {
   "cell_type": "code",
   "execution_count": 1,
   "metadata": {},
   "outputs": [],
   "source": [
    "irene_pmaps_file    = '/home/jmbenlloch/next/hypathia/Kr83_NEW_v1_03_01_pmaps_v5_03_04_ACTIVE_10.2bar.0.h5'\n",
    "hypathia_pmaps_file = '/home/jmbenlloch/next/hypathia/Kr83_NEW_v1_03_01_hypathia_v5_03_04_ACTIVE_10.2bar.0.h5'"
   ]
  },
  {
   "cell_type": "code",
   "execution_count": 2,
   "metadata": {},
   "outputs": [],
   "source": [
    "import invisible_cities.io.pmaps_io as pio\n",
    "import matplotlib.pylab as plt\n",
    "%matplotlib inline"
   ]
  },
  {
   "cell_type": "code",
   "execution_count": 3,
   "metadata": {},
   "outputs": [],
   "source": [
    "irene_pmaps    = pio.load_pmaps(irene_pmaps_file)"
   ]
  },
  {
   "cell_type": "code",
   "execution_count": 4,
   "metadata": {},
   "outputs": [],
   "source": [
    "hypathia_pmaps = pio.load_pmaps(hypathia_pmaps_file)"
   ]
  },
  {
   "cell_type": "markdown",
   "metadata": {},
   "source": [
    "Get total number of s1, s2, total charge and energy and time at maximum energy."
   ]
  },
  {
   "cell_type": "code",
   "execution_count": 5,
   "metadata": {},
   "outputs": [],
   "source": [
    "def pmaps_info(pmaps):\n",
    "    ns1s = []\n",
    "    ns2s = []\n",
    "\n",
    "    s2_energies   = []\n",
    "    s2_charges    = []\n",
    "    s2_time_max_e = []\n",
    "    \n",
    "    s1_energies   = []\n",
    "    s1_charges    = []\n",
    "    s1_time_max_e = []\n",
    "\n",
    "    for evt, pmap in pmaps.items():\n",
    "        ns1 = len(pmap.s1s)\n",
    "        ns2 = len(pmap.s2s)\n",
    "\n",
    "        ns1s.append(ns1)\n",
    "        ns2s.append(ns2)\n",
    "\n",
    "        for s2 in pmap.s2s:\n",
    "            s2_energies  .append(s2.total_energy)\n",
    "            s2_charges   .append(s2.total_charge)\n",
    "            s2_time_max_e.append(s2.time_at_max_energy)\n",
    "        \n",
    "        for s1 in pmap.s1s:\n",
    "            s1_energies  .append(s1.total_energy)\n",
    "            s1_charges   .append(s1.total_charge)\n",
    "            s1_time_max_e.append(s1.time_at_max_energy)\n",
    "\n",
    "    \n",
    "    return ns1, ns2, s1_energies, s1_charges, s1_time_max_e, s2_energies, s2_charges, s2_time_max_e"
   ]
  },
  {
   "cell_type": "code",
   "execution_count": 6,
   "metadata": {},
   "outputs": [],
   "source": [
    "ns1_i, ns2_i, s1_energies_i, s1_charges_i, s1_time_max_e_i, s2_energies_i, s2_charges_i, s2_time_max_e_i = pmaps_info(irene_pmaps)"
   ]
  },
  {
   "cell_type": "code",
   "execution_count": 7,
   "metadata": {},
   "outputs": [],
   "source": [
    "ns1_h, ns2_h, s1_energies_h, s1_charges_h, s1_time_max_e_h, s2_energies_h, s2_charges_h, s2_time_max_e_h = pmaps_info(hypathia_pmaps)"
   ]
  },
  {
   "cell_type": "markdown",
   "metadata": {},
   "source": [
    "### Compare number of s1"
   ]
  },
  {
   "cell_type": "code",
   "execution_count": 8,
   "metadata": {},
   "outputs": [
    {
     "data": {
      "image/png": "[encoded data removed]",
      "text/plain": [
       "<Figure size 432x288 with 1 Axes>"
      ]
     },
     "metadata": {
      "needs_background": "light"
     },
     "output_type": "display_data"
    }
   ],
   "source": [
    "_ = plt.hist(ns1_h, bins=100, alpha=0.5)\n",
    "_ = plt.hist(ns1_i, bins=100, alpha=0.5)"
   ]
  },
  {
   "cell_type": "markdown",
   "metadata": {},
   "source": [
    "### Compare number of s2"
   ]
  },
  {
   "cell_type": "code",
   "execution_count": 9,
   "metadata": {},
   "outputs": [
    {
     "data": {
      "image/png": "[encoded data removed]",
      "text/plain": [
       "<Figure size 432x288 with 1 Axes>"
      ]
     },
     "metadata": {
      "needs_background": "light"
     },
     "output_type": "display_data"
    }
   ],
   "source": [
    "_ = plt.hist(ns2_h, bins=100, alpha=0.5)\n",
    "_ = plt.hist(ns2_i, bins=100, alpha=0.5)"
   ]
  },
  {
   "cell_type": "markdown",
   "metadata": {},
   "source": [
    "### Compare time at maximum energy in s2"
   ]
  },
  {
   "cell_type": "code",
   "execution_count": 10,
   "metadata": {},
   "outputs": [
    {
     "data": {
      "image/png": "[encoded data removed]",
      "text/plain": [
       "<Figure size 432x288 with 1 Axes>"
      ]
     },
     "metadata": {
      "needs_background": "light"
     },
     "output_type": "display_data"
    }
   ],
   "source": [
    "_ = plt.hist(s2_time_max_e_h, bins=100, alpha=0.5)\n",
    "_ = plt.hist(s2_time_max_e_i, bins=100, alpha=0.5)"
   ]
  },
  {
   "cell_type": "markdown",
   "metadata": {},
   "source": [
    "### Compare s2 PMT energies"
   ]
  },
  {
   "cell_type": "markdown",
   "metadata": {},
   "source": [
    "The shape is quite similar but there is a scale difference, hypathia does not perform any calibration, just takes the true waveform coming from detsim, this difference must be due to that."
   ]
  },
  {
   "cell_type": "code",
   "execution_count": 11,
   "metadata": {},
   "outputs": [
    {
     "data": {
      "image/png": "[encoded data removed]",
      "text/plain": [
       "<Figure size 432x288 with 1 Axes>"
      ]
     },
     "metadata": {
      "needs_background": "light"
     },
     "output_type": "display_data"
    }
   ],
   "source": [
    "_ = plt.hist(s2_energies_h, bins=100, alpha=0.5)\n",
    "_ = plt.hist(s2_energies_i, bins=100, alpha=0.5)"
   ]
  },
  {
   "cell_type": "markdown",
   "metadata": {},
   "source": [
    "### Compare s2 SiPM charges"
   ]
  },
  {
   "cell_type": "markdown",
   "metadata": {},
   "source": [
    "Again, distributions are quite similar with a small scale difference due to the lack of calibration."
   ]
  },
  {
   "cell_type": "code",
   "execution_count": 12,
   "metadata": {},
   "outputs": [
    {
     "data": {
      "image/png": "[encoded data removed]",
      "text/plain": [
       "<Figure size 432x288 with 1 Axes>"
      ]
     },
     "metadata": {
      "needs_background": "light"
     },
     "output_type": "display_data"
    }
   ],
   "source": [
    "_ = plt.hist(s2_charges_h, bins=100, alpha=0.5)\n",
    "_ = plt.hist(s2_charges_i, bins=100, alpha=0.5)"
   ]
  },
  {
   "cell_type": "markdown",
   "metadata": {},
   "source": [
    "### Compare S1 PMT energies"
   ]
  },
  {
   "cell_type": "markdown",
   "metadata": {},
   "source": [
    "S1 energy in Hypathia can only be an integer number since we are not adding any noise, gains, etc. Apart from that seems to be ok."
   ]
  },
  {
   "cell_type": "code",
   "execution_count": 13,
   "metadata": {},
   "outputs": [
    {
     "data": {
      "image/png": "[encoded data removed]",
      "text/plain": [
       "<Figure size 432x288 with 1 Axes>"
      ]
     },
     "metadata": {
      "needs_background": "light"
     },
     "output_type": "display_data"
    }
   ],
   "source": [
    "_ = plt.hist(s1_energies_h, bins=100, alpha=0.5)\n",
    "_ = plt.hist(s1_energies_i, bins=100, alpha=0.5)"
   ]
  },
  {
   "cell_type": "markdown",
   "metadata": {},
   "source": [
    "### Compare S1 SiPM charges"
   ]
  },
  {
   "cell_type": "markdown",
   "metadata": {},
   "source": [
    "Since this is Kr, SiPMs don't see any light coming from S1."
   ]
  },
  {
   "cell_type": "code",
   "execution_count": 14,
   "metadata": {},
   "outputs": [
    {
     "data": {
      "image/png": "[encoded data removed]",
      "text/plain": [
       "<Figure size 432x288 with 1 Axes>"
      ]
     },
     "metadata": {
      "needs_background": "light"
     },
     "output_type": "display_data"
    }
   ],
   "source": [
    "_ = plt.hist(s1_charges_h, bins=100, alpha=0.5)\n",
    "_ = plt.hist(s1_charges_i, bins=100, alpha=0.5)"
   ]
  }
 ],
 "metadata": {
  "kernelspec": {
   "display_name": "Python 3",
   "language": "python",
   "name": "python3"
  },
  "language_info": {
   "codemirror_mode": {
    "name": "ipython",
    "version": 3
   },
   "file_extension": ".py",
   "mimetype": "text/x-python",
   "name": "python",
   "nbconvert_exporter": "python",
   "pygments_lexer": "ipython3",
   "version": "3.7.2"
  }
 },
 "nbformat": 4,
 "nbformat_minor": 2
}
